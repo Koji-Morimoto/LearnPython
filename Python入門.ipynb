{
 "cells": [
  {
   "cell_type": "code",
   "id": "05da768d-9ceb-4723-bd5b-45ee489437c0",
   "metadata": {
    "ExecuteTime": {
     "end_time": "2024-06-10T13:13:53.815985Z",
     "start_time": "2024-06-10T13:13:53.812945Z"
    }
   },
   "source": [
    "#helpが表示できる\n",
    "import os\n",
    "help(os.listdir)"
   ],
   "outputs": [
    {
     "name": "stdout",
     "output_type": "stream",
     "text": [
      "Help on built-in function listdir in module nt:\n",
      "\n",
      "listdir(path=None)\n",
      "    Return a list containing the names of the files in the directory.\n",
      "\n",
      "    path can be specified as either str, bytes, or a path-like object.  If path is bytes,\n",
      "      the filenames returned will also be bytes; in all other circumstances\n",
      "      the filenames returned will be str.\n",
      "    If path is None, uses the path='.'.\n",
      "    On some platforms, path may also be specified as an open file descriptor;\\\n",
      "      the file descriptor must refer to a directory.\n",
      "      If this functionality is unavailable, using it raises NotImplementedError.\n",
      "\n",
      "    The list is in arbitrary order.  It does not include the special\n",
      "    entries '.' and '..' even if they are present in the directory.\n",
      "\n"
     ]
    }
   ],
   "execution_count": 38
  },
  {
   "metadata": {
    "ExecuteTime": {
     "end_time": "2024-06-10T13:14:55.377154Z",
     "start_time": "2024-06-10T13:14:55.374125Z"
    }
   },
   "cell_type": "code",
   "source": [
    "#inspectで関数のOptionが確認できる。\n",
    "import inspect\n",
    "def example_function(arg:int, arg2, kwarg1='default1', kwarg2='default2'):\n",
    "    pass\n",
    "\n",
    "# 関数のシグネチャを取得\n",
    "sig = inspect.signature(example_function)\n",
    "print(sig.parameters)\n",
    "print(sig)"
   ],
   "id": "eac8a987538994ec",
   "outputs": [
    {
     "name": "stdout",
     "output_type": "stream",
     "text": [
      "OrderedDict({'arg': <Parameter \"arg: int\">, 'arg2': <Parameter \"arg2\">, 'kwarg1': <Parameter \"kwarg1='default1'\">, 'kwarg2': <Parameter \"kwarg2='default2'\">})\n",
      "(arg: int, arg2, kwarg1='default1', kwarg2='default2')\n"
     ]
    }
   ],
   "execution_count": 45
  },
  {
   "cell_type": "code",
   "id": "3b53eecf-4dd8-40c3-a368-cf614f6ddba9",
   "metadata": {
    "jupyter": {
     "is_executing": true
    }
   },
   "source": [
    "#dirはそのクラスのインスタンスに定義されているインスタンス変数を全て表示することができる\n",
    "\n",
    "a = [1, 2, 3]\n",
    "dir(a)"
   ],
   "outputs": [],
   "execution_count": null
  },
  {
   "cell_type": "raw",
   "id": "1eee8520-951d-440b-9650-c60c260d3a04",
   "metadata": {},
   "source": [
    "【コレクション系】"
   ]
  },
  {
   "metadata": {},
   "cell_type": "markdown",
   "source": "",
   "id": "4286741f154b43e2"
  },
  {
   "cell_type": "code",
   "id": "f3a7f29f-050a-47ed-bef4-d909805c2e33",
   "metadata": {},
   "source": [
    "#for分相当の処理はC#のforeachしかないため、for相当の処理が欲しい時は下記のように書く\n",
    "for i in range(10):  #for(i=0;i<10;i++)相当\n",
    "    print(i)"
   ],
   "outputs": [],
   "execution_count": null
  },
  {
   "cell_type": "code",
   "id": "0f87fe85-3a2d-4605-af10-468425b43d7b",
   "metadata": {},
   "source": [
    "#リストの要素とインデックスを両方取り出すにはenumerateを使う\n",
    "num = [2, 4, 6]\n",
    "for index, value in enumerate(num):\n",
    "    print(f\"index={index},value={value}\")"
   ],
   "outputs": [],
   "execution_count": null
  },
  {
   "cell_type": "code",
   "id": "7c81e0ba-384c-46ce-bff9-a3a2d67a4881",
   "metadata": {},
   "source": [
    "#リストのをまとめるにはC#同様zipが使える。\n",
    "list1 = [1, 2, 3]\n",
    "list2 = [-1, -2, -3]\n",
    "\n",
    "for x, y in zip(list1, list2):\n",
    "    print(f\"x={x},y={y}\")"
   ],
   "outputs": [],
   "execution_count": null
  },
  {
   "cell_type": "code",
   "id": "c5f95a21-64ae-40a0-baa5-c18624beeac7",
   "metadata": {},
   "source": [
    "num = [1, 2, 3]\n",
    "#mapはmapオブジェクトを返すだけで、コレクションに関数を適用した結果を返すわけではない\n",
    "func = map(lambda n: n * 2, num)\n",
    "print(func)\n",
    "\n",
    "#mapの結果を取り出すためにはlistを生成する必要がある。\n",
    "list(func)"
   ],
   "outputs": [],
   "execution_count": null
  },
  {
   "cell_type": "code",
   "id": "a84218f0-8763-432b-a178-3142b02a966f",
   "metadata": {},
   "source": [
    "#文字列補間のやりかた。C#でいう$。\n",
    "x = 1000\n",
    "#Zero Padding\n",
    "print(f\"{x:010}\")\n",
    "#カンマ区切り\n",
    "print(f\"{x:,}\")\n",
    "#小数点以下の桁数\n",
    "print(f\"{x:.5f}\")\n",
    "#全部の組み合わせ。下記3つの内1番上だけ有効？\n",
    "print(f\"{x:010,.5f}\")\n",
    "#print(f\"{x:,010.5f}\")\n",
    "#print(f\"{x:.5f010,}\")"
   ],
   "outputs": [],
   "execution_count": null
  },
  {
   "cell_type": "code",
   "id": "6b90d1b3-ebdf-4b18-a564-50fe5a3deda9",
   "metadata": {
    "ExecuteTime": {
     "end_time": "2024-06-11T14:10:29.785332Z",
     "start_time": "2024-06-11T14:10:29.780911Z"
    }
   },
   "source": [
    "import os\n",
    "\n",
    "#カレントディレクトリがとれる\n",
    "print(os.getcwd())\n",
    "\n",
    "#指定ディレクトリのファイル名一覧を取得\n",
    "os.listdir(\"C:\\\\Users\\\\TaskM\\\\Videos\\\\Bandicam\")"
   ],
   "outputs": [
    {
     "name": "stdout",
     "output_type": "stream",
     "text": [
      "D:\\学習\\Python\\pythonProject\n"
     ]
    },
    {
     "data": {
      "text/plain": [
       "['bandicam 2023-11-04 17-49-55-535.mp3',\n",
       " 'bandicam 2023-11-04 17-50-15-726.mp3',\n",
       " 'bandicam 2023-11-04 17-51-35-568.mp3',\n",
       " 'bandicam 2023-11-04 17-57-55-854.mp3',\n",
       " 'bandicam 2023-11-04 17-57-58-767.mp3',\n",
       " 'bandicam 2023-11-04 17-58-11-466.mp3',\n",
       " 'bandicam 2023-11-04 20-07-18-059.mp3',\n",
       " 'bandicam 2023-11-04 20-07-30-467.mp3',\n",
       " 'bandicam 2023-11-04 21-10-38-818.mp3',\n",
       " 'bandicam 2023-11-04 21-17-15-319.mp3',\n",
       " 'BumpingSound.mp3',\n",
       " 'PythonSample.txt',\n",
       " 'Success.mp3']"
      ]
     },
     "execution_count": 1,
     "metadata": {},
     "output_type": "execute_result"
    }
   ],
   "execution_count": 1
  },
  {
   "cell_type": "raw",
   "id": "7262b57d-e0ff-434f-8c67-ec9a5d92477d",
   "metadata": {},
   "source": [
    "【ファイル結合】"
   ]
  },
  {
   "cell_type": "code",
   "id": "21fe1df7-fb1a-49c8-bc01-83c4a60138b2",
   "metadata": {},
   "source": [
    "#ファイル操作。withはC#でいうusingと同じでリソースの開放を行ってくれる\n",
    "#mode選択で書き込み読み込み等を設定する。rでread、wでwrite、aでappend、r+で読み込み書き込み\n",
    "with open(r\"C:\\Users\\TaskM\\Videos\\Bandicam\\PythonSample.txt\", \"w\") as f:\n",
    "    f.write(\"something\")\n",
    "    #空のファイルに対してここでs=f.read()としてもsomehingという文字列は入っていない。いったんwithから抜けないとバッファからファイルに書き込まれていない？\n",
    "\n",
    "with open(r\"C:\\Users\\TaskM\\Videos\\Bandicam\\PythonSample.txt\", \"r\") as f2:\n",
    "    s = f2.read()\n",
    "    print(s)"
   ],
   "outputs": [],
   "execution_count": null
  },
  {
   "cell_type": "code",
   "id": "928b3aa8-82a7-4cb0-ab80-c564afb72416",
   "metadata": {},
   "source": [
    "#string.Join相当の処理は下記のような書き方。。。\n",
    "string = \"\\n\".join([\"a\", \"b\"])\n",
    "print(string)"
   ],
   "outputs": [],
   "execution_count": null
  },
  {
   "cell_type": "code",
   "id": "bc74e5be-8b7c-430e-abba-1c450277cf32",
   "metadata": {},
   "source": [
    "import sys;\n",
    "print(sys.prefix)"
   ],
   "outputs": [],
   "execution_count": null
  },
  {
   "cell_type": "code",
   "id": "511d2da9-6096-4582-89a8-c184f36afa74",
   "metadata": {},
   "source": [
    "print(sys.executable)"
   ],
   "outputs": [],
   "execution_count": null
  },
  {
   "cell_type": "code",
   "id": "8a21c04f-67c0-40f8-acd0-c0c4714590c4",
   "metadata": {},
   "source": "",
   "outputs": [],
   "execution_count": null
  },
  {
   "metadata": {},
   "cell_type": "code",
   "source": [
    "#tqdmを使うと進捗状況が文字列として出力される。\n",
    "from tqdm import tqdm\n",
    "\n",
    "for x in tqdm(range(10 ** 9)):\n",
    "    pass  #printするとtqdmの出力がまともに見れないからとりあえずpass\n"
   ],
   "id": "e17c8f1ecdf0f65a",
   "outputs": [],
   "execution_count": null
  },
  {
   "metadata": {
    "ExecuteTime": {
     "start_time": "2024-06-10T12:58:25.727993Z"
    }
   },
   "cell_type": "code",
   "source": [
    "#型ヒントをつけることができる\n",
    "def function(x: int, y: int) -> int:\n",
    "    return x + y\n",
    "\n",
    "\n",
    "function(10.0, 20)"
   ],
   "id": "e887ab6d50480320",
   "outputs": [],
   "execution_count": null
  },
  {
   "metadata": {
    "ExecuteTime": {
     "start_time": "2024-06-10T12:58:25.728993Z"
    }
   },
   "cell_type": "code",
   "source": [
    "#iterable：リスト、タプル、文字列、辞書、セットがそうでfor文で回せる。\n",
    "print(\"これは文字列のforeach\")\n",
    "for s in \"something\":\n",
    "    print(s)\n",
    "\n",
    "tuple = (1, 2)\n",
    "print(\"これはTupleのforeach\")\n",
    "for i in tuple:\n",
    "    print(i)\n",
    "#    "
   ],
   "id": "722c9cee3cc4f4da",
   "outputs": [],
   "execution_count": null
  },
  {
   "metadata": {
    "ExecuteTime": {
     "start_time": "2024-06-10T12:58:25.728993Z"
    }
   },
   "cell_type": "code",
   "source": [
    "#ログレベルは次の５種類で左から右へ行くほど重大性が高い DEBUG , INFO , WARNING , ERROR , CRITICAL\n",
    "from logging import getLogger, StreamHandler, FileHandler, DEBUG, INFO, WARNING, ERROR, CRITICAL, Formatter\n",
    "\n",
    "logger = getLogger(__name__)\n",
    "#handler=StreamHandler()#consoleへの出力を行うhandler\n",
    "\n",
    "\n",
    "#handlerは複数用意することができる。ログの出力先や、出力レベルの選択が可能。\n",
    "#WARNING以上の重大性のログ出力だけを指定したファイルに集約して出力するといった使い方が可能。\n",
    "#注意：その場合でもhandlerを追加する対象であるloggerのレベル設定はhandlerで設定するレベルを含んでいないと出力されない。\n",
    "handlerCRITICAL = FileHandler(\"criticalLogging.txt\")\n",
    "handlerCRITICAL.setLevel(CRITICAL)\n",
    "\n",
    "handlerDEBUG = FileHandler(\"debuglogging.txt\")\n",
    "handlerDEBUG.setLevel(DEBUG)\n",
    "\n",
    "logger.setLevel(DEBUG)\n",
    "\n",
    "formatter = Formatter(\"[%(levelname)s] %(asctime)s 【%(message)s】 %(filename)s\")\n",
    "\n",
    "handlerCRITICAL.setFormatter(formatter)\n",
    "handlerDEBUG.setFormatter(formatter)\n",
    "logger.addHandler(handlerCRITICAL)\n",
    "logger.addHandler(handlerDEBUG)\n",
    "logger.debug(\"debug logでーす\")\n",
    "\n",
    "logger.debug(\"Debug\")\n",
    "logger.info(\"info\")\n",
    "logger.warning(\"warning\")\n",
    "logger.error(\"error\")\n",
    "logger.critical(\"致命的！\")\n"
   ],
   "id": "df2f09fbebd78270",
   "outputs": [],
   "execution_count": null
  },
  {
   "metadata": {
    "ExecuteTime": {
     "start_time": "2024-06-10T12:58:25.729993Z"
    }
   },
   "cell_type": "code",
   "source": [
    "#pathlibが抽象度の高い、パスを扱うライブラリ\n",
    "from pathlib import Path\n",
    "\n",
    "path = Path.cwd()\n",
    "for f in iter(path.iterdir()):\n",
    "    #print(type(f))#pathは文字列ではなくパスを表す専用のオブジェクト\n",
    "    print(f)\n",
    "\n",
    "#パスは演算子/を使って結合することができる。\n",
    "[x.name for x in (Path.cwd() / \".idea\").iterdir()]"
   ],
   "id": "efb07b760fb48e3e",
   "outputs": [],
   "execution_count": null
  },
  {
   "metadata": {
    "ExecuteTime": {
     "start_time": "2024-06-10T12:58:25.729993Z"
    }
   },
   "cell_type": "code",
   "source": [
    "#再帰的にファイル、フォルダにアクセスする\n",
    "topDir = path.cwd()\n",
    "for f in topDir.glob(\"**/*\"):  #**が再帰的であることを示す。/の右側はワイルドカードを使ったファイル指定\n",
    "    print(f)\n",
    "\n",
    "print(\"【ワイルドカードで絞る】\")\n",
    "for f in topDir.glob(\"**/*.txt\"):  #**が再帰的であることを示す。/の右側はワイルドカードを使ったファイル指定\n",
    "    print(f)"
   ],
   "id": "87c06ef69f2baa27",
   "outputs": [],
   "execution_count": null
  },
  {
   "metadata": {
    "ExecuteTime": {
     "start_time": "2024-06-10T12:58:25.730993Z"
    }
   },
   "cell_type": "code",
   "source": [
    "import sys\n",
    "\n",
    "print(sys.float_info.max)\n",
    "print(sys.float_info.max / 2)"
   ],
   "id": "8fb4c9a1a2374bba",
   "outputs": [],
   "execution_count": null
  },
  {
   "metadata": {
    "ExecuteTime": {
     "start_time": "2024-06-10T12:58:25.730993Z"
    }
   },
   "cell_type": "code",
   "source": [
    "#数値として扱えない値であることを示すnanは等号では判定できない\n",
    "import math\n",
    "\n",
    "print(math.isinf(float('inf')))\n",
    "print(math.isnan(float('inf') - float('inf')))"
   ],
   "id": "177a488ca7d8186b",
   "outputs": [],
   "execution_count": null
  },
  {
   "metadata": {
    "ExecuteTime": {
     "start_time": "2024-06-10T12:58:25.731994Z"
    }
   },
   "cell_type": "code",
   "source": [
    "#jsonの扱い方\n",
    "\n",
    "#python→jsonx\n",
    "import json\n",
    "\n",
    "obj = {\"item\": 'apple', \"price\": 120}\n",
    "jsonText = json.dumps(obj)\n",
    "print(jsonText)\n",
    "print(type(jsonText))\n",
    "\n",
    "obj2 = {\"name\": '森本', \"male\": True}\n",
    "jsonText = json.dumps(obj2, ensure_ascii=False)  #ensure_ascii=Falseにしてやると日本語表示ができる\n",
    "print(jsonText)\n",
    "\n",
    "#json→python\n",
    "jsonText3 = '{\"name\":\"森本\",\"male\":True}'\n",
    "value = json.loads(jsonText)\n",
    "print(value)\n",
    "print(value[\"name\"])\n",
    "print(value[\"male\"])"
   ],
   "id": "1019df0e698159fe",
   "outputs": [],
   "execution_count": null
  },
  {
   "metadata": {
    "ExecuteTime": {
     "start_time": "2024-06-10T12:58:25.731994Z"
    }
   },
   "cell_type": "code",
   "source": [
    "#コマンドプロンプトでのコマンドを実行できる。例えばmkdirとか\n",
    "import subprocess\n",
    "\n",
    "cp = subprocess.run(\"mkdir createdSubprocess2\", shell=True, capture_output=True, text=True, timeout=10)\n",
    "print(cp.stdout)\n",
    "print(cp.returncode)\n",
    "print(cp.stderr)"
   ],
   "id": "c49badf9c800d8ab",
   "outputs": [],
   "execution_count": null
  },
  {
   "metadata": {},
   "cell_type": "markdown",
   "source": [
    "必要なモジュール一式を出力する方法\n",
    "pip freezeの後にファイル名を記載すればそこに必要なモジュール一式が書き込まれたテキストファイルが出力される。\n",
    "    pip freeze > requirements.txt\n",
    "\n",
    "上記方法で出力されたファイルをもとに環境を作成するには、下記コマンドを実行すればいい。\n",
    "    pip install -r requirements.txt"
   ],
   "id": "4511fb964aae02fa"
  },
  {
   "metadata": {},
   "cell_type": "markdown",
   "source": "pytestを使うと単体テストができる。",
   "id": "a80c079d953f2cbd"
  },
  {
   "metadata": {},
   "cell_type": "markdown",
   "source": "",
   "id": "a5d6d336c6dc8abd"
  },
  {
   "metadata": {
    "ExecuteTime": {
     "end_time": "2024-06-10T12:58:25.748009Z",
     "start_time": "2024-06-10T12:58:25.732993Z"
    }
   },
   "cell_type": "code",
   "source": [
    "#iniファイルの読み込み方\n",
    "import configparser\n",
    "config=configparser.ConfigParser()\n",
    "config.read(\"config.ini\")\n",
    "\n",
    "configSection=config[\"SectionName\"]\n",
    "configValue=configSection[\"KeyName\"]\n",
    "print(configValue)"
   ],
   "id": "65917d21da55a24",
   "outputs": [],
   "execution_count": null
  },
  {
   "metadata": {
    "ExecuteTime": {
     "start_time": "2024-06-10T12:58:25.732993Z"
    }
   },
   "cell_type": "code",
   "source": [
    "import subprocess\n",
    "subprocess.run(\"touch config.ini\", shell=True, capture_output=True, text=True, timeout=10)"
   ],
   "id": "1c8b6f7eb8709363",
   "outputs": [],
   "execution_count": null
  },
  {
   "metadata": {
    "ExecuteTime": {
     "start_time": "2024-06-10T12:58:25.733993Z"
    }
   },
   "cell_type": "code",
   "source": "import matplotlib.pyplot as plt",
   "id": "934951d334f4b35",
   "outputs": [],
   "execution_count": null
  },
  {
   "metadata": {
    "ExecuteTime": {
     "end_time": "2024-06-10T12:58:54.582544Z",
     "start_time": "2024-06-10T12:58:54.579504Z"
    }
   },
   "cell_type": "code",
   "source": [
    "import sys\n",
    "sys.executable"
   ],
   "id": "6fcf8dd506d774cd",
   "outputs": [
    {
     "data": {
      "text/plain": [
       "'C:\\\\Users\\\\TaskM\\\\miniconda3\\\\python.exe'"
      ]
     },
     "execution_count": 15,
     "metadata": {},
     "output_type": "execute_result"
    }
   ],
   "execution_count": 15
  },
  {
   "metadata": {
    "ExecuteTime": {
     "end_time": "2024-06-10T12:59:03.667863Z",
     "start_time": "2024-06-10T12:59:03.659021Z"
    }
   },
   "cell_type": "code",
   "source": [
    "#matplotlib\n",
    "import matplotlib.pyplot as plt\n",
    "import japanize_matplotlib"
   ],
   "id": "144dbbf1ad53d47e",
   "outputs": [
    {
     "ename": "ModuleNotFoundError",
     "evalue": "No module named 'matplotlib'",
     "output_type": "error",
     "traceback": [
      "\u001B[1;31m---------------------------------------------------------------------------\u001B[0m",
      "\u001B[1;31mModuleNotFoundError\u001B[0m                       Traceback (most recent call last)",
      "Cell \u001B[1;32mIn[17], line 2\u001B[0m\n\u001B[0;32m      1\u001B[0m \u001B[38;5;66;03m#matplotlib\u001B[39;00m\n\u001B[1;32m----> 2\u001B[0m \u001B[38;5;28;01mimport\u001B[39;00m \u001B[38;5;21;01mmatplotlib\u001B[39;00m\u001B[38;5;21;01m.\u001B[39;00m\u001B[38;5;21;01mpyplot\u001B[39;00m \u001B[38;5;28;01mas\u001B[39;00m \u001B[38;5;21;01mplt\u001B[39;00m\n\u001B[0;32m      3\u001B[0m \u001B[38;5;28;01mimport\u001B[39;00m \u001B[38;5;21;01mjapanize_matplotlib\u001B[39;00m\n",
      "\u001B[1;31mModuleNotFoundError\u001B[0m: No module named 'matplotlib'"
     ]
    }
   ],
   "execution_count": 17
  },
  {
   "metadata": {
    "ExecuteTime": {
     "end_time": "2024-06-10T13:09:14.183785Z",
     "start_time": "2024-06-10T13:09:13.290998Z"
    }
   },
   "cell_type": "code",
   "source": [
    "import seaborn as sns\n",
    "import numpy as np\n",
    "df=sns.load_dataset(\"titanic\")"
   ],
   "id": "963fde596b0775f0",
   "outputs": [],
   "execution_count": 25
  },
  {
   "metadata": {
    "ExecuteTime": {
     "end_time": "2024-06-10T13:09:26.923274Z",
     "start_time": "2024-06-10T13:09:26.910587Z"
    }
   },
   "cell_type": "code",
   "source": "df",
   "id": "78bd865529002eec",
   "outputs": [
    {
     "data": {
      "text/plain": [
       "     survived  pclass     sex   age  sibsp  parch     fare embarked   class  \\\n",
       "0           0       3    male  22.0      1      0   7.2500        S   Third   \n",
       "1           1       1  female  38.0      1      0  71.2833        C   First   \n",
       "2           1       3  female  26.0      0      0   7.9250        S   Third   \n",
       "3           1       1  female  35.0      1      0  53.1000        S   First   \n",
       "4           0       3    male  35.0      0      0   8.0500        S   Third   \n",
       "..        ...     ...     ...   ...    ...    ...      ...      ...     ...   \n",
       "886         0       2    male  27.0      0      0  13.0000        S  Second   \n",
       "887         1       1  female  19.0      0      0  30.0000        S   First   \n",
       "888         0       3  female   NaN      1      2  23.4500        S   Third   \n",
       "889         1       1    male  26.0      0      0  30.0000        C   First   \n",
       "890         0       3    male  32.0      0      0   7.7500        Q   Third   \n",
       "\n",
       "       who  adult_male deck  embark_town alive  alone  \n",
       "0      man        True  NaN  Southampton    no  False  \n",
       "1    woman       False    C    Cherbourg   yes  False  \n",
       "2    woman       False  NaN  Southampton   yes   True  \n",
       "3    woman       False    C  Southampton   yes  False  \n",
       "4      man        True  NaN  Southampton    no   True  \n",
       "..     ...         ...  ...          ...   ...    ...  \n",
       "886    man        True  NaN  Southampton    no   True  \n",
       "887  woman       False    B  Southampton   yes   True  \n",
       "888  woman       False  NaN  Southampton    no  False  \n",
       "889    man        True    C    Cherbourg   yes   True  \n",
       "890    man        True  NaN   Queenstown    no   True  \n",
       "\n",
       "[891 rows x 15 columns]"
      ],
      "text/html": [
       "<div>\n",
       "<style scoped>\n",
       "    .dataframe tbody tr th:only-of-type {\n",
       "        vertical-align: middle;\n",
       "    }\n",
       "\n",
       "    .dataframe tbody tr th {\n",
       "        vertical-align: top;\n",
       "    }\n",
       "\n",
       "    .dataframe thead th {\n",
       "        text-align: right;\n",
       "    }\n",
       "</style>\n",
       "<table border=\"1\" class=\"dataframe\">\n",
       "  <thead>\n",
       "    <tr style=\"text-align: right;\">\n",
       "      <th></th>\n",
       "      <th>survived</th>\n",
       "      <th>pclass</th>\n",
       "      <th>sex</th>\n",
       "      <th>age</th>\n",
       "      <th>sibsp</th>\n",
       "      <th>parch</th>\n",
       "      <th>fare</th>\n",
       "      <th>embarked</th>\n",
       "      <th>class</th>\n",
       "      <th>who</th>\n",
       "      <th>adult_male</th>\n",
       "      <th>deck</th>\n",
       "      <th>embark_town</th>\n",
       "      <th>alive</th>\n",
       "      <th>alone</th>\n",
       "    </tr>\n",
       "  </thead>\n",
       "  <tbody>\n",
       "    <tr>\n",
       "      <th>0</th>\n",
       "      <td>0</td>\n",
       "      <td>3</td>\n",
       "      <td>male</td>\n",
       "      <td>22.0</td>\n",
       "      <td>1</td>\n",
       "      <td>0</td>\n",
       "      <td>7.2500</td>\n",
       "      <td>S</td>\n",
       "      <td>Third</td>\n",
       "      <td>man</td>\n",
       "      <td>True</td>\n",
       "      <td>NaN</td>\n",
       "      <td>Southampton</td>\n",
       "      <td>no</td>\n",
       "      <td>False</td>\n",
       "    </tr>\n",
       "    <tr>\n",
       "      <th>1</th>\n",
       "      <td>1</td>\n",
       "      <td>1</td>\n",
       "      <td>female</td>\n",
       "      <td>38.0</td>\n",
       "      <td>1</td>\n",
       "      <td>0</td>\n",
       "      <td>71.2833</td>\n",
       "      <td>C</td>\n",
       "      <td>First</td>\n",
       "      <td>woman</td>\n",
       "      <td>False</td>\n",
       "      <td>C</td>\n",
       "      <td>Cherbourg</td>\n",
       "      <td>yes</td>\n",
       "      <td>False</td>\n",
       "    </tr>\n",
       "    <tr>\n",
       "      <th>2</th>\n",
       "      <td>1</td>\n",
       "      <td>3</td>\n",
       "      <td>female</td>\n",
       "      <td>26.0</td>\n",
       "      <td>0</td>\n",
       "      <td>0</td>\n",
       "      <td>7.9250</td>\n",
       "      <td>S</td>\n",
       "      <td>Third</td>\n",
       "      <td>woman</td>\n",
       "      <td>False</td>\n",
       "      <td>NaN</td>\n",
       "      <td>Southampton</td>\n",
       "      <td>yes</td>\n",
       "      <td>True</td>\n",
       "    </tr>\n",
       "    <tr>\n",
       "      <th>3</th>\n",
       "      <td>1</td>\n",
       "      <td>1</td>\n",
       "      <td>female</td>\n",
       "      <td>35.0</td>\n",
       "      <td>1</td>\n",
       "      <td>0</td>\n",
       "      <td>53.1000</td>\n",
       "      <td>S</td>\n",
       "      <td>First</td>\n",
       "      <td>woman</td>\n",
       "      <td>False</td>\n",
       "      <td>C</td>\n",
       "      <td>Southampton</td>\n",
       "      <td>yes</td>\n",
       "      <td>False</td>\n",
       "    </tr>\n",
       "    <tr>\n",
       "      <th>4</th>\n",
       "      <td>0</td>\n",
       "      <td>3</td>\n",
       "      <td>male</td>\n",
       "      <td>35.0</td>\n",
       "      <td>0</td>\n",
       "      <td>0</td>\n",
       "      <td>8.0500</td>\n",
       "      <td>S</td>\n",
       "      <td>Third</td>\n",
       "      <td>man</td>\n",
       "      <td>True</td>\n",
       "      <td>NaN</td>\n",
       "      <td>Southampton</td>\n",
       "      <td>no</td>\n",
       "      <td>True</td>\n",
       "    </tr>\n",
       "    <tr>\n",
       "      <th>...</th>\n",
       "      <td>...</td>\n",
       "      <td>...</td>\n",
       "      <td>...</td>\n",
       "      <td>...</td>\n",
       "      <td>...</td>\n",
       "      <td>...</td>\n",
       "      <td>...</td>\n",
       "      <td>...</td>\n",
       "      <td>...</td>\n",
       "      <td>...</td>\n",
       "      <td>...</td>\n",
       "      <td>...</td>\n",
       "      <td>...</td>\n",
       "      <td>...</td>\n",
       "      <td>...</td>\n",
       "    </tr>\n",
       "    <tr>\n",
       "      <th>886</th>\n",
       "      <td>0</td>\n",
       "      <td>2</td>\n",
       "      <td>male</td>\n",
       "      <td>27.0</td>\n",
       "      <td>0</td>\n",
       "      <td>0</td>\n",
       "      <td>13.0000</td>\n",
       "      <td>S</td>\n",
       "      <td>Second</td>\n",
       "      <td>man</td>\n",
       "      <td>True</td>\n",
       "      <td>NaN</td>\n",
       "      <td>Southampton</td>\n",
       "      <td>no</td>\n",
       "      <td>True</td>\n",
       "    </tr>\n",
       "    <tr>\n",
       "      <th>887</th>\n",
       "      <td>1</td>\n",
       "      <td>1</td>\n",
       "      <td>female</td>\n",
       "      <td>19.0</td>\n",
       "      <td>0</td>\n",
       "      <td>0</td>\n",
       "      <td>30.0000</td>\n",
       "      <td>S</td>\n",
       "      <td>First</td>\n",
       "      <td>woman</td>\n",
       "      <td>False</td>\n",
       "      <td>B</td>\n",
       "      <td>Southampton</td>\n",
       "      <td>yes</td>\n",
       "      <td>True</td>\n",
       "    </tr>\n",
       "    <tr>\n",
       "      <th>888</th>\n",
       "      <td>0</td>\n",
       "      <td>3</td>\n",
       "      <td>female</td>\n",
       "      <td>NaN</td>\n",
       "      <td>1</td>\n",
       "      <td>2</td>\n",
       "      <td>23.4500</td>\n",
       "      <td>S</td>\n",
       "      <td>Third</td>\n",
       "      <td>woman</td>\n",
       "      <td>False</td>\n",
       "      <td>NaN</td>\n",
       "      <td>Southampton</td>\n",
       "      <td>no</td>\n",
       "      <td>False</td>\n",
       "    </tr>\n",
       "    <tr>\n",
       "      <th>889</th>\n",
       "      <td>1</td>\n",
       "      <td>1</td>\n",
       "      <td>male</td>\n",
       "      <td>26.0</td>\n",
       "      <td>0</td>\n",
       "      <td>0</td>\n",
       "      <td>30.0000</td>\n",
       "      <td>C</td>\n",
       "      <td>First</td>\n",
       "      <td>man</td>\n",
       "      <td>True</td>\n",
       "      <td>C</td>\n",
       "      <td>Cherbourg</td>\n",
       "      <td>yes</td>\n",
       "      <td>True</td>\n",
       "    </tr>\n",
       "    <tr>\n",
       "      <th>890</th>\n",
       "      <td>0</td>\n",
       "      <td>3</td>\n",
       "      <td>male</td>\n",
       "      <td>32.0</td>\n",
       "      <td>0</td>\n",
       "      <td>0</td>\n",
       "      <td>7.7500</td>\n",
       "      <td>Q</td>\n",
       "      <td>Third</td>\n",
       "      <td>man</td>\n",
       "      <td>True</td>\n",
       "      <td>NaN</td>\n",
       "      <td>Queenstown</td>\n",
       "      <td>no</td>\n",
       "      <td>True</td>\n",
       "    </tr>\n",
       "  </tbody>\n",
       "</table>\n",
       "<p>891 rows × 15 columns</p>\n",
       "</div>"
      ]
     },
     "execution_count": 26,
     "metadata": {},
     "output_type": "execute_result"
    }
   ],
   "execution_count": 26
  },
  {
   "metadata": {
    "ExecuteTime": {
     "end_time": "2024-06-10T13:16:57.775322Z",
     "start_time": "2024-06-10T13:16:57.702503Z"
    }
   },
   "cell_type": "code",
   "source": [
    "import matplotlib.pyplot as plt\n",
    "fg,ax=plt.subplots(figsize=(10,10))\n",
    "plt.hist(df[\"fare\"],bins=20,range=(0,100),)    \n"
   ],
   "id": "b2dfe1006248669b",
   "outputs": [
    {
     "data": {
      "text/plain": [
       "<Signature (x: 'ArrayLike | Sequence[ArrayLike]', bins: 'int | Sequence[float] | str | None' = None, range: 'tuple[float, float] | None' = None, density: 'bool' = False, weights: 'ArrayLike | None' = None, cumulative: 'bool | float' = False, bottom: 'ArrayLike | float | None' = None, histtype: \"Literal['bar', 'barstacked', 'step', 'stepfilled']\" = 'bar', align: \"Literal['left', 'mid', 'right']\" = 'mid', orientation: \"Literal['vertical', 'horizontal']\" = 'vertical', rwidth: 'float | None' = None, log: 'bool' = False, color: 'ColorType | Sequence[ColorType] | None' = None, label: 'str | Sequence[str] | None' = None, stacked: 'bool' = False, *, data=None, **kwargs) -> 'tuple[np.ndarray | list[np.ndarray], np.ndarray, BarContainer | Polygon | list[BarContainer | Polygon]]'>"
      ]
     },
     "execution_count": 46,
     "metadata": {},
     "output_type": "execute_result"
    },
    {
     "data": {
      "text/plain": [
       "<Figure size 1000x1000 with 1 Axes>"
      ],
      "image/png": "[encoded data removed]"
     },
     "metadata": {},
     "output_type": "display_data"
    }
   ],
   "execution_count": 46
  },
  {
   "metadata": {
    "ExecuteTime": {
     "end_time": "2024-06-10T13:18:16.464315Z",
     "start_time": "2024-06-10T13:18:16.460761Z"
    }
   },
   "cell_type": "code",
   "source": [
    "import inspect\n",
    "for name, param in inspect.signature(plt.hist).parameters.items():\n",
    "    if param.default != inspect.Parameter.empty:\n",
    "        print(f\"{name}: {param.default} (Optional)\")\n",
    "    else:\n",
    "        print(f\"{name} (Required)\")\n",
    "        \n",
    "help(plt.hist)\n"
   ],
   "id": "d9092872271f96bf",
   "outputs": [
    {
     "name": "stdout",
     "output_type": "stream",
     "text": [
      "x (Required)\n",
      "bins: None (Optional)\n",
      "range: None (Optional)\n",
      "density: False (Optional)\n",
      "weights: None (Optional)\n",
      "cumulative: False (Optional)\n",
      "bottom: None (Optional)\n",
      "histtype: bar (Optional)\n",
      "align: mid (Optional)\n",
      "orientation: vertical (Optional)\n",
      "rwidth: None (Optional)\n",
      "log: False (Optional)\n",
      "color: None (Optional)\n",
      "label: None (Optional)\n",
      "stacked: False (Optional)\n",
      "data: None (Optional)\n",
      "kwargs (Required)\n",
      "Help on function hist in module matplotlib.pyplot:\n",
      "\n",
      "hist(x: 'ArrayLike | Sequence[ArrayLike]', bins: 'int | Sequence[float] | str | None' = None, range: 'tuple[float, float] | None' = None, density: 'bool' = False, weights: 'ArrayLike | None' = None, cumulative: 'bool | float' = False, bottom: 'ArrayLike | float | None' = None, histtype: \"Literal['bar', 'barstacked', 'step', 'stepfilled']\" = 'bar', align: \"Literal['left', 'mid', 'right']\" = 'mid', orientation: \"Literal['vertical', 'horizontal']\" = 'vertical', rwidth: 'float | None' = None, log: 'bool' = False, color: 'ColorType | Sequence[ColorType] | None' = None, label: 'str | Sequence[str] | None' = None, stacked: 'bool' = False, *, data=None, **kwargs) -> 'tuple[np.ndarray | list[np.ndarray], np.ndarray, BarContainer | Polygon | list[BarContainer | Polygon]]'\n",
      "    Compute and plot a histogram.\n",
      "\n",
      "    This method uses `numpy.histogram` to bin the data in *x* and count the\n",
      "    number of values in each bin, then draws the distribution either as a\n",
      "    `.BarContainer` or `.Polygon`. The *bins*, *range*, *density*, and\n",
      "    *weights* parameters are forwarded to `numpy.histogram`.\n",
      "\n",
      "    If the data has already been binned and counted, use `~.bar` or\n",
      "    `~.stairs` to plot the distribution::\n",
      "\n",
      "        counts, bins = np.histogram(x)\n",
      "        plt.stairs(counts, bins)\n",
      "\n",
      "    Alternatively, plot pre-computed bins and counts using ``hist()`` by\n",
      "    treating each bin as a single point with a weight equal to its count::\n",
      "\n",
      "        plt.hist(bins[:-1], bins, weights=counts)\n",
      "\n",
      "    The data input *x* can be a singular array, a list of datasets of\n",
      "    potentially different lengths ([*x0*, *x1*, ...]), or a 2D ndarray in\n",
      "    which each column is a dataset. Note that the ndarray form is\n",
      "    transposed relative to the list form. If the input is an array, then\n",
      "    the return value is a tuple (*n*, *bins*, *patches*); if the input is a\n",
      "    sequence of arrays, then the return value is a tuple\n",
      "    ([*n0*, *n1*, ...], *bins*, [*patches0*, *patches1*, ...]).\n",
      "\n",
      "    Masked arrays are not supported.\n",
      "\n",
      "    Parameters\n",
      "    ----------\n",
      "    x : (n,) array or sequence of (n,) arrays\n",
      "        Input values, this takes either a single array or a sequence of\n",
      "        arrays which are not required to be of the same length.\n",
      "\n",
      "    bins : int or sequence or str, default: :rc:`hist.bins`\n",
      "        If *bins* is an integer, it defines the number of equal-width bins\n",
      "        in the range.\n",
      "\n",
      "        If *bins* is a sequence, it defines the bin edges, including the\n",
      "        left edge of the first bin and the right edge of the last bin;\n",
      "        in this case, bins may be unequally spaced.  All but the last\n",
      "        (righthand-most) bin is half-open.  In other words, if *bins* is::\n",
      "\n",
      "            [1, 2, 3, 4]\n",
      "\n",
      "        then the first bin is ``[1, 2)`` (including 1, but excluding 2) and\n",
      "        the second ``[2, 3)``.  The last bin, however, is ``[3, 4]``, which\n",
      "        *includes* 4.\n",
      "\n",
      "        If *bins* is a string, it is one of the binning strategies\n",
      "        supported by `numpy.histogram_bin_edges`: 'auto', 'fd', 'doane',\n",
      "        'scott', 'stone', 'rice', 'sturges', or 'sqrt'.\n",
      "\n",
      "    range : tuple or None, default: None\n",
      "        The lower and upper range of the bins. Lower and upper outliers\n",
      "        are ignored. If not provided, *range* is ``(x.min(), x.max())``.\n",
      "        Range has no effect if *bins* is a sequence.\n",
      "\n",
      "        If *bins* is a sequence or *range* is specified, autoscaling\n",
      "        is based on the specified bin range instead of the\n",
      "        range of x.\n",
      "\n",
      "    density : bool, default: False\n",
      "        If ``True``, draw and return a probability density: each bin\n",
      "        will display the bin's raw count divided by the total number of\n",
      "        counts *and the bin width*\n",
      "        (``density = counts / (sum(counts) * np.diff(bins))``),\n",
      "        so that the area under the histogram integrates to 1\n",
      "        (``np.sum(density * np.diff(bins)) == 1``).\n",
      "\n",
      "        If *stacked* is also ``True``, the sum of the histograms is\n",
      "        normalized to 1.\n",
      "\n",
      "    weights : (n,) array-like or None, default: None\n",
      "        An array of weights, of the same shape as *x*.  Each value in\n",
      "        *x* only contributes its associated weight towards the bin count\n",
      "        (instead of 1).  If *density* is ``True``, the weights are\n",
      "        normalized, so that the integral of the density over the range\n",
      "        remains 1.\n",
      "\n",
      "    cumulative : bool or -1, default: False\n",
      "        If ``True``, then a histogram is computed where each bin gives the\n",
      "        counts in that bin plus all bins for smaller values. The last bin\n",
      "        gives the total number of datapoints.\n",
      "\n",
      "        If *density* is also ``True`` then the histogram is normalized such\n",
      "        that the last bin equals 1.\n",
      "\n",
      "        If *cumulative* is a number less than 0 (e.g., -1), the direction\n",
      "        of accumulation is reversed.  In this case, if *density* is also\n",
      "        ``True``, then the histogram is normalized such that the first bin\n",
      "        equals 1.\n",
      "\n",
      "    bottom : array-like, scalar, or None, default: None\n",
      "        Location of the bottom of each bin, i.e. bins are drawn from\n",
      "        ``bottom`` to ``bottom + hist(x, bins)`` If a scalar, the bottom\n",
      "        of each bin is shifted by the same amount. If an array, each bin\n",
      "        is shifted independently and the length of bottom must match the\n",
      "        number of bins. If None, defaults to 0.\n",
      "\n",
      "    histtype : {'bar', 'barstacked', 'step', 'stepfilled'}, default: 'bar'\n",
      "        The type of histogram to draw.\n",
      "\n",
      "        - 'bar' is a traditional bar-type histogram.  If multiple data\n",
      "          are given the bars are arranged side by side.\n",
      "        - 'barstacked' is a bar-type histogram where multiple\n",
      "          data are stacked on top of each other.\n",
      "        - 'step' generates a lineplot that is by default unfilled.\n",
      "        - 'stepfilled' generates a lineplot that is by default filled.\n",
      "\n",
      "    align : {'left', 'mid', 'right'}, default: 'mid'\n",
      "        The horizontal alignment of the histogram bars.\n",
      "\n",
      "        - 'left': bars are centered on the left bin edges.\n",
      "        - 'mid': bars are centered between the bin edges.\n",
      "        - 'right': bars are centered on the right bin edges.\n",
      "\n",
      "    orientation : {'vertical', 'horizontal'}, default: 'vertical'\n",
      "        If 'horizontal', `~.Axes.barh` will be used for bar-type histograms\n",
      "        and the *bottom* kwarg will be the left edges.\n",
      "\n",
      "    rwidth : float or None, default: None\n",
      "        The relative width of the bars as a fraction of the bin width.  If\n",
      "        ``None``, automatically compute the width.\n",
      "\n",
      "        Ignored if *histtype* is 'step' or 'stepfilled'.\n",
      "\n",
      "    log : bool, default: False\n",
      "        If ``True``, the histogram axis will be set to a log scale.\n",
      "\n",
      "    color : color or array-like of colors or None, default: None\n",
      "        Color or sequence of colors, one per dataset.  Default (``None``)\n",
      "        uses the standard line color sequence.\n",
      "\n",
      "    label : str or None, default: None\n",
      "        String, or sequence of strings to match multiple datasets.  Bar\n",
      "        charts yield multiple patches per dataset, but only the first gets\n",
      "        the label, so that `~.Axes.legend` will work as expected.\n",
      "\n",
      "    stacked : bool, default: False\n",
      "        If ``True``, multiple data are stacked on top of each other If\n",
      "        ``False`` multiple data are arranged side by side if histtype is\n",
      "        'bar' or on top of each other if histtype is 'step'\n",
      "\n",
      "    Returns\n",
      "    -------\n",
      "    n : array or list of arrays\n",
      "        The values of the histogram bins. See *density* and *weights* for a\n",
      "        description of the possible semantics.  If input *x* is an array,\n",
      "        then this is an array of length *nbins*. If input is a sequence of\n",
      "        arrays ``[data1, data2, ...]``, then this is a list of arrays with\n",
      "        the values of the histograms for each of the arrays in the same\n",
      "        order.  The dtype of the array *n* (or of its element arrays) will\n",
      "        always be float even if no weighting or normalization is used.\n",
      "\n",
      "    bins : array\n",
      "        The edges of the bins. Length nbins + 1 (nbins left edges and right\n",
      "        edge of last bin).  Always a single array even when multiple data\n",
      "        sets are passed in.\n",
      "\n",
      "    patches : `.BarContainer` or list of a single `.Polygon` or list of such objects\n",
      "        Container of individual artists used to create the histogram\n",
      "        or list of such containers if there are multiple input datasets.\n",
      "\n",
      "    Other Parameters\n",
      "    ----------------\n",
      "    data : indexable object, optional\n",
      "        If given, the following parameters also accept a string ``s``, which is\n",
      "        interpreted as ``data[s]`` (unless this raises an exception):\n",
      "\n",
      "        *x*, *weights*\n",
      "\n",
      "    **kwargs\n",
      "        `~matplotlib.patches.Patch` properties\n",
      "\n",
      "    See Also\n",
      "    --------\n",
      "    hist2d : 2D histogram with rectangular bins\n",
      "    hexbin : 2D histogram with hexagonal bins\n",
      "    stairs : Plot a pre-computed histogram\n",
      "    bar : Plot a pre-computed histogram\n",
      "\n",
      "    Notes\n",
      "    -----\n",
      "    For large numbers of bins (>1000), plotting can be significantly\n",
      "    accelerated by using `~.Axes.stairs` to plot a pre-computed histogram\n",
      "    (``plt.stairs(*np.histogram(data))``), or by setting *histtype* to\n",
      "    'step' or 'stepfilled' rather than 'bar' or 'barstacked'.\n",
      "\n"
     ]
    }
   ],
   "execution_count": 49
  },
  {
   "metadata": {
    "ExecuteTime": {
     "end_time": "2024-06-11T14:12:43.536300Z",
     "start_time": "2024-06-11T14:12:43.533306Z"
    }
   },
   "cell_type": "code",
   "source": [
    "from scipy.optimize import curve_fit\n",
    "import inspect\n",
    "inspect.signature(curve_fit)"
   ],
   "id": "2d528a090360c8ec",
   "outputs": [
    {
     "data": {
      "text/plain": [
       "<Signature (f, xdata, ydata, p0=None, sigma=None, absolute_sigma=False, check_finite=None, bounds=(-inf, inf), method=None, jac=None, *, full_output=False, nan_policy=None, **kwargs)>"
      ]
     },
     "execution_count": 10,
     "metadata": {},
     "output_type": "execute_result"
    }
   ],
   "execution_count": 10
  },
  {
   "metadata": {
    "ExecuteTime": {
     "end_time": "2024-06-11T14:16:04.402701Z",
     "start_time": "2024-06-11T14:16:04.321793Z"
    }
   },
   "cell_type": "code",
   "source": [
    "import numpy as np\n",
    "import matplotlib.pyplot as plt\n",
    "from scipy.optimize import curve_fit\n",
    "\n",
    "\n",
    "# サンプルデータの生成\n",
    "x = np.linspace(0, 10, 100)\n",
    "y =  3*x**+2 * x + 1 + np.random.normal(0, 1, size=x.size)\n",
    "\n",
    "# 多項式関数の定義 (2次関数として定義)\n",
    "def poly2(x, a, b,c):\n",
    "    return a * x**+ b*x+c\n",
    "\n",
    "# 最適なパラメータを見つける\n",
    "params, _ = curve_fit(poly2, x, y)\n",
    "\n",
    "# 近似関数\n",
    "y_fit = poly2(x, *params)\n",
    "\n",
    "# 数式を作成\n",
    "formula = f\"${params[0]:.2f}x^2 + {params[1]:.2f}x + {params[2]:.2f}$\"\n",
    "\n",
    "# グラフの描画\n",
    "plt.scatter(x, y, label='データ')\n",
    "plt.plot(x, y_fit, color='red', label='近似')\n",
    "plt.legend()\n",
    "\n",
    "# 数式をグラフに埋め込む\n",
    "plt.text(1, 80, formula, fontsize=12, color='red')\n",
    "\n",
    "plt.xlabel('x')\n",
    "plt.ylabel('y')\n",
    "plt.title('多項式近似')\n",
    "plt.show()\n"
   ],
   "id": "2fc2433e246175ff",
   "outputs": [
    {
     "data": {
      "text/plain": [
       "<Figure size 640x480 with 1 Axes>"
      ],
      "image/png": "[encoded data removed]"
     },
     "metadata": {},
     "output_type": "display_data"
    }
   ],
   "execution_count": 17
  },
  {
   "metadata": {
    "ExecuteTime": {
     "end_time": "2024-06-11T14:16:59.353766Z",
     "start_time": "2024-06-11T14:16:59.278044Z"
    }
   },
   "cell_type": "code",
   "source": [
    "import numpy as np\n",
    "import matplotlib.pyplot as plt\n",
    "\n",
    "# サンプルデータの生成\n",
    "x = np.linspace(0, 10, 100)\n",
    "y = 3 * x + 2 + np.random.normal(0, 0.1, size=x.size)\n",
    "\n",
    "# 直線近似\n",
    "coefficients = np.polyfit(x, y, 1)\n",
    "slope, intercept = coefficients\n",
    "\n",
    "# 近似関数\n",
    "y_fit = np.polyval(coefficients, x)\n",
    "\n",
    "# 数式を作成\n",
    "formula = f\"${slope:.2f}x + {intercept:.2f}$\"\n",
    "\n",
    "# グラフの描画\n",
    "plt.scatter(x, y, label='データ')\n",
    "plt.plot(x, y_fit, color='red', label='近似')\n",
    "plt.legend()\n",
    "\n",
    "# 数式をグラフに埋め込む\n",
    "plt.text(1, max(y_fit) - 10, formula, fontsize=12, color='red')\n",
    "\n",
    "plt.xlabel('x')\n",
    "plt.ylabel('y')\n",
    "plt.title('直線近似')\n",
    "plt.show()\n"
   ],
   "id": "4d3c256dc42047fe",
   "outputs": [
    {
     "data": {
      "text/plain": [
       "<Figure size 640x480 with 1 Axes>"
      ],
      "image/png": "[encoded data removed]"
     },
     "metadata": {},
     "output_type": "display_data"
    }
   ],
   "execution_count": 22
  },
  {
   "metadata": {
    "ExecuteTime": {
     "end_time": "2024-06-11T14:43:36.251953Z",
     "start_time": "2024-06-11T14:43:36.236586Z"
    }
   },
   "cell_type": "code",
   "source": [
    "import numpy as np\n",
    "\n",
    "import matplotlib.pyplot as plt\n",
    "\n",
    "# サンプルデータの生成\n",
    "x = np.linspace(0, 10, 100)\n",
    "y = 3 * x + 2 + np.random.normal(0, 0.1, size=x.size)\n",
    "\n",
    "# 直線近似\n",
    "coefficients = np.polynomial(x, y, 2)\n",
    "#slope, intercept = coefficients\n",
    "\n",
    "# 近似関数\n",
    "y_fit = np.polyval(coefficients, x)\n",
    "\n",
    "# 数式を作成\n",
    "#formula = f\"${slope:.2f}x + {intercept:.2f}$\"\n",
    "formula=str()\n",
    "for i in range(len(coefficients)):\n",
    "    formula=formula+f\"{(coefficients[i]):.3f}\"+\"x^\"+str(i)+\"+\"\n",
    "    \n",
    "    \n",
    "    \n",
    "# グラフの描画\n",
    "plt.scatter(x, y, label='データ')\n",
    "plt.plot(x, y_fit, color='red', label='近似')\n",
    "plt.legend()\n",
    "\n",
    "# 数式をグラフに埋め込む\n",
    "plt.text(1, max(y_fit) - 10, formula, fontsize=12, color='red')\n",
    "\n",
    "plt.xlabel('x')\n",
    "plt.ylabel('y')\n",
    "plt.title('直線近似')\n",
    "plt.show()\n"
   ],
   "id": "a7a796a2fa080179",
   "outputs": [
    {
     "name": "stdout",
     "output_type": "stream",
     "text": [
      "17.00518734 + 15.00152549 x + 0.02092099 x**2\n"
     ]
    },
    {
     "ename": "TypeError",
     "evalue": "iteration over a 0-d array",
     "output_type": "error",
     "traceback": [
      "\u001B[1;31m---------------------------------------------------------------------------\u001B[0m",
      "\u001B[1;31mTypeError\u001B[0m                                 Traceback (most recent call last)",
      "Cell \u001B[1;32mIn[48], line 14\u001B[0m\n\u001B[0;32m     12\u001B[0m \u001B[38;5;28mprint\u001B[39m(coefficients)\n\u001B[0;32m     13\u001B[0m \u001B[38;5;66;03m# 近似関数\u001B[39;00m\n\u001B[1;32m---> 14\u001B[0m y_fit \u001B[38;5;241m=\u001B[39m \u001B[43mnp\u001B[49m\u001B[38;5;241;43m.\u001B[39;49m\u001B[43mpolyval\u001B[49m\u001B[43m(\u001B[49m\u001B[43mcoefficients\u001B[49m\u001B[43m,\u001B[49m\u001B[43m \u001B[49m\u001B[43mx\u001B[49m\u001B[43m)\u001B[49m\n\u001B[0;32m     16\u001B[0m \u001B[38;5;66;03m# 数式を作成\u001B[39;00m\n\u001B[0;32m     17\u001B[0m \u001B[38;5;66;03m#formula = f\"${slope:.2f}x + {intercept:.2f}$\"\u001B[39;00m\n\u001B[0;32m     18\u001B[0m formula\u001B[38;5;241m=\u001B[39m\u001B[38;5;28mstr\u001B[39m()\n",
      "File \u001B[1;32m\\\\?\\C:\\Users\\TaskM\\AppData\\Roaming\\jupyterlab-desktop\\envs\\env_1\\Lib\\site-packages\\numpy\\lib\\polynomial.py:779\u001B[0m, in \u001B[0;36mpolyval\u001B[1;34m(p, x)\u001B[0m\n\u001B[0;32m    777\u001B[0m     x \u001B[38;5;241m=\u001B[39m NX\u001B[38;5;241m.\u001B[39masanyarray(x)\n\u001B[0;32m    778\u001B[0m     y \u001B[38;5;241m=\u001B[39m NX\u001B[38;5;241m.\u001B[39mzeros_like(x)\n\u001B[1;32m--> 779\u001B[0m \u001B[43m\u001B[49m\u001B[38;5;28;43;01mfor\u001B[39;49;00m\u001B[43m \u001B[49m\u001B[43mpv\u001B[49m\u001B[43m \u001B[49m\u001B[38;5;129;43;01min\u001B[39;49;00m\u001B[43m \u001B[49m\u001B[43mp\u001B[49m\u001B[43m:\u001B[49m\n\u001B[0;32m    780\u001B[0m \u001B[43m    \u001B[49m\u001B[43my\u001B[49m\u001B[43m \u001B[49m\u001B[38;5;241;43m=\u001B[39;49m\u001B[43m \u001B[49m\u001B[43my\u001B[49m\u001B[43m \u001B[49m\u001B[38;5;241;43m*\u001B[39;49m\u001B[43m \u001B[49m\u001B[43mx\u001B[49m\u001B[43m \u001B[49m\u001B[38;5;241;43m+\u001B[39;49m\u001B[43m \u001B[49m\u001B[43mpv\u001B[49m\n\u001B[0;32m    781\u001B[0m \u001B[38;5;28;01mreturn\u001B[39;00m y\n",
      "\u001B[1;31mTypeError\u001B[0m: iteration over a 0-d array"
     ]
    }
   ],
   "execution_count": 48
  },
  {
   "metadata": {
    "ExecuteTime": {
     "end_time": "2024-06-11T14:54:46.296049Z",
     "start_time": "2024-06-11T14:54:46.222830Z"
    }
   },
   "cell_type": "code",
   "source": [
    "from numpy.polynomial import Polynomial\n",
    "from functools import reduce\n",
    "import matplotlib.pyplot as plt\n",
    "\n",
    "# サンプルデータの生成\n",
    "x = np.linspace(0, 10, 100)\n",
    "y = 3 * x + 2 + np.random.normal(0, 0.1, size=x.size)\n",
    "\n",
    "# 直線近似\n",
    "polynomialExpression = Polynomial.fit(x, y, 1)\n",
    "coefficients=polynomialExpression.convert().coef\n",
    "y_fit=polynomialExpression(x)\n",
    "print(reduce(lambda x,acc:str(acc)+\"+\"+str(x), coefficients))\n",
    "plt.scatter(x, y, label='データ')\n",
    "plt.plot(x, y_fit, color='red', label='近似')\n",
    "plt.legend()\n",
    "\n",
    "# 数式をグラフに埋め込む\n",
    "\n",
    "plt.xlabel('x')\n",
    "plt.ylabel('y')\n",
    "plt.title('直線近似')\n",
    "plt.show()\n"
   ],
   "id": "6e8c73d215881acb",
   "outputs": [
    {
     "name": "stdout",
     "output_type": "stream",
     "text": [
      "3.0011215409337466+1.9979110382738252\n"
     ]
    },
    {
     "data": {
      "text/plain": [
       "<Figure size 640x480 with 1 Axes>"
      ],
      "image/png": "[encoded data removed]"
     },
     "metadata": {},
     "output_type": "display_data"
    }
   ],
   "execution_count": 71
  },
  {
   "metadata": {
    "ExecuteTime": {
     "end_time": "2024-06-11T14:45:12.975070Z",
     "start_time": "2024-06-11T14:45:12.972771Z"
    }
   },
   "cell_type": "code",
   "source": "print(coefficients)",
   "id": "190321b9651d55a6",
   "outputs": [
    {
     "name": "stdout",
     "output_type": "stream",
     "text": [
      "16.98039021 + 15.01431236 x + 0.05701026 x**2\n"
     ]
    }
   ],
   "execution_count": 55
  },
  {
   "metadata": {},
   "cell_type": "code",
   "outputs": [],
   "execution_count": null,
   "source": "",
   "id": "988f31a335292e8"
  }
 ],
 "metadata": {
  "kernelspec": {
   "display_name": "Python 3 (ipykernel)",
   "language": "python",
   "name": "python3"
  },
  "language_info": {
   "codemirror_mode": {
    "name": "ipython",
    "version": 3
   },
   "file_extension": ".py",
   "mimetype": "text/x-python",
   "name": "python",
   "nbconvert_exporter": "python",
   "pygments_lexer": "ipython3",
   "version": "3.12.3"
  }
 },
 "nbformat": 4,
 "nbformat_minor": 5
}
